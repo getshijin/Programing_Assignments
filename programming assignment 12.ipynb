{
 "cells": [
  {
   "cell_type": "code",
   "execution_count": null,
   "id": "00c592dc",
   "metadata": {},
   "outputs": [],
   "source": [
    "    1. Write a Python program to Extract Unique values dictionary values?"
   ]
  },
  {
   "cell_type": "code",
   "execution_count": 3,
   "id": "6d4e2f0d",
   "metadata": {},
   "outputs": [
    {
     "name": "stdout",
     "output_type": "stream",
     "text": [
      "the unique elemets are {'j', ' ', 'm', 's', 'i', 'a', 'h', 'e', 'n', 'y'}\n"
     ]
    }
   ],
   "source": [
    "try :\n",
    "    def uniq_val(n):\n",
    "        dict1=set()\n",
    "        #print(n)\n",
    "        for char in n:\n",
    "            \n",
    "            dict1.add(char)\n",
    "        return dict1\n",
    "    result=uniq_val(\"my name is shijin\")\n",
    "    print(\"the unique elemets are\",result)\n",
    "except Exception as e:\n",
    "    print(e)\n",
    "                "
   ]
  },
  {
   "cell_type": "code",
   "execution_count": null,
   "id": "e151c32a",
   "metadata": {},
   "outputs": [],
   "source": [
    "    2. Write a Python program to find the sum of all items in a dictionary?"
   ]
  },
  {
   "cell_type": "code",
   "execution_count": 2,
   "id": "e1dee80e",
   "metadata": {},
   "outputs": [
    {
     "name": "stdout",
     "output_type": "stream",
     "text": [
      "Sum : 600\n"
     ]
    }
   ],
   "source": [
    "def returnSum(myDict):\n",
    "     \n",
    "    list = []\n",
    "    for i in myDict:\n",
    "        list.append(myDict[i])\n",
    "    final = sum(list)\n",
    "     \n",
    "    return final\n",
    " \n",
    "# Driver Function\n",
    "dict1 = {'a': 100, 'b':200, 'c':300}\n",
    "print(\"Sum :\", returnSum(dict1))"
   ]
  },
  {
   "cell_type": "code",
   "execution_count": null,
   "id": "84b55777",
   "metadata": {},
   "outputs": [],
   "source": [
    "    3. Write a Python program to Merging two Dictionaries?"
   ]
  },
  {
   "cell_type": "code",
   "execution_count": 4,
   "id": "a3e763d8",
   "metadata": {},
   "outputs": [
    {
     "name": "stdout",
     "output_type": "stream",
     "text": [
      "merge : {'a': 100, 'b': 200, 'c': 300}\n"
     ]
    }
   ],
   "source": [
    "def mergedict(myDict1,mydict2):\n",
    "    myDict1.update(mydict2)\n",
    "    \n",
    "    return myDict1\n",
    " \n",
    "# Driver Function\n",
    "dict1 = {'a': 100, 'b':200, 'c':300}\n",
    "dict2 = {'a': 100, 'b':200, 'c':300}\n",
    "print(\"merge :\", mergedict(dict1,dict2))"
   ]
  },
  {
   "cell_type": "code",
   "execution_count": null,
   "id": "d8d9e9b0",
   "metadata": {},
   "outputs": [],
   "source": [
    "    4. Write a Python program to convert key-values list to flat dictionary?"
   ]
  },
  {
   "cell_type": "code",
   "execution_count": 5,
   "id": "46632b6a",
   "metadata": {},
   "outputs": [
    {
     "name": "stdout",
     "output_type": "stream",
     "text": [
      "Original dictionary:  {'day': [1, 2, 3], 'name': ['Mon', 'Tues', 'Wed']}\n",
      "FLATTENED DICTIONARY:  {1: 'Mon', 2: 'Tues', 3: 'Wed'}\n"
     ]
    }
   ],
   "source": [
    "dic= { \"day\": [1, 2, 3], \"name\": ['Mon', 'Tues', 'Wed' ] }\n",
    "print(\"Original dictionary: \",dic)\n",
    "\n",
    "# convert to flat dictionary\n",
    "\n",
    "f_dic= dict(zip(dic[\"day\"], dic[\"name\"]))\n",
    "print(\"FLATTENED DICTIONARY: \", f_dic) "
   ]
  },
  {
   "cell_type": "code",
   "execution_count": null,
   "id": "cce422d8",
   "metadata": {},
   "outputs": [],
   "source": [
    "    5. Write a Python program to insertion at the beginning in OrderedDict?"
   ]
  },
  {
   "cell_type": "code",
   "execution_count": 6,
   "id": "9d64a1c9",
   "metadata": {},
   "outputs": [
    {
     "name": "stdout",
     "output_type": "stream",
     "text": [
      "Resultant Dictionary : OrderedDict([('manjeet', '3'), ('akshat', '1'), ('nikhil', '2')])\n"
     ]
    }
   ],
   "source": [
    "from collections import OrderedDict\n",
    " \n",
    "# initialising ordered_dict\n",
    "iniordered_dict = OrderedDict([('akshat', '1'), ('nikhil', '2')])\n",
    " \n",
    "# inserting items in starting of dict\n",
    "iniordered_dict.update({'manjeet':'3'})\n",
    "iniordered_dict.move_to_end('manjeet', last = False)\n",
    " \n",
    "# print result\n",
    "print (\"Resultant Dictionary : \"+str(iniordered_dict))"
   ]
  },
  {
   "cell_type": "code",
   "execution_count": null,
   "id": "d12ee600",
   "metadata": {},
   "outputs": [],
   "source": [
    "    6. Write a Python program to check order of character in string using OrderedDict()?"
   ]
  },
  {
   "cell_type": "code",
   "execution_count": 9,
   "id": "64dd7be1",
   "metadata": {},
   "outputs": [
    {
     "name": "stdout",
     "output_type": "stream",
     "text": [
      "true\n"
     ]
    }
   ],
   "source": [
    "from collections import OrderedDict \n",
    "  \n",
    "def checkOrder(input, pattern): \n",
    "      \n",
    "    # create empty OrderedDict \n",
    "    dict = OrderedDict.fromkeys(input) \n",
    "  \n",
    "    # traverse generated OrderedDict parallel with \n",
    "    # pattern string to check if order of characters \n",
    "    # are same or not \n",
    "    ptrlen = 0\n",
    "    for key,value in dict.items(): \n",
    "        if (key == pattern[ptrlen]): \n",
    "            ptrlen = ptrlen + 1\n",
    "          \n",
    "        # check if we have traverse complete \n",
    "        # pattern string \n",
    "        if (ptrlen == (len(pattern))): \n",
    "            return 'true'\n",
    "  \n",
    "    # if we come out from for loop that means \n",
    "    # order was mismatched \n",
    "    return 'false'\n",
    "  \n",
    "# Driver program \n",
    "if __name__ == \"__main__\": \n",
    "    input = 'engineers rock'\n",
    "    pattern = 'egr'\n",
    "    print (checkOrder(input,pattern)) "
   ]
  },
  {
   "cell_type": "code",
   "execution_count": null,
   "id": "eb0734c0",
   "metadata": {},
   "outputs": [],
   "source": [
    "7. Write a Python program to sort Python Dictionaries by Key or Value?"
   ]
  },
  {
   "cell_type": "code",
   "execution_count": 8,
   "id": "8087ffc0",
   "metadata": {},
   "outputs": [
    {
     "name": "stdout",
     "output_type": "stream",
     "text": [
      "Keys and Values sorted in alphabetical order by the key  \n",
      "(1, 2) (2, 56) (3, 323) (4, 24) (5, 12) (6, 18) "
     ]
    }
   ],
   "source": [
    "def dictionairy():\n",
    " \n",
    " # Declaring the hash function     \n",
    " key_value ={}   \n",
    "  \n",
    "# Initialize value\n",
    " key_value[2] = 56      \n",
    " key_value[1] = 2\n",
    " key_value[5] = 12\n",
    " key_value[4] = 24\n",
    " key_value[6] = 18     \n",
    " key_value[3] = 323\n",
    "  \n",
    " print (\"Keys and Values sorted in\",\n",
    "            \"alphabetical order by the key  \") \n",
    " \n",
    " # sorted(key_value) returns an iterator over the\n",
    " # Dictionary’s value sorted in keys. \n",
    " for i in sorted (key_value) :\n",
    "    print ((i, key_value[i]), end =\" \")\n",
    " \n",
    "def main():\n",
    "    # function calling\n",
    "    dictionairy()            \n",
    "     \n",
    "# main function calling\n",
    "if __name__==\"__main__\":    \n",
    "    main()"
   ]
  },
  {
   "cell_type": "code",
   "execution_count": null,
   "id": "4746c9bf",
   "metadata": {},
   "outputs": [],
   "source": []
  },
  {
   "cell_type": "code",
   "execution_count": null,
   "id": "e1c08b11",
   "metadata": {},
   "outputs": [],
   "source": []
  },
  {
   "cell_type": "code",
   "execution_count": null,
   "id": "24553b36",
   "metadata": {},
   "outputs": [],
   "source": []
  },
  {
   "cell_type": "code",
   "execution_count": null,
   "id": "22a6a37f",
   "metadata": {},
   "outputs": [],
   "source": []
  },
  {
   "cell_type": "code",
   "execution_count": null,
   "id": "984f7f25",
   "metadata": {},
   "outputs": [],
   "source": []
  }
 ],
 "metadata": {
  "kernelspec": {
   "display_name": "Python 3 (ipykernel)",
   "language": "python",
   "name": "python3"
  },
  "language_info": {
   "codemirror_mode": {
    "name": "ipython",
    "version": 3
   },
   "file_extension": ".py",
   "mimetype": "text/x-python",
   "name": "python",
   "nbconvert_exporter": "python",
   "pygments_lexer": "ipython3",
   "version": "3.8.10"
  }
 },
 "nbformat": 4,
 "nbformat_minor": 5
}
