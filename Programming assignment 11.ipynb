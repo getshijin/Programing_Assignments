{
 "cells": [
  {
   "cell_type": "code",
   "execution_count": null,
   "id": "ba1550f7",
   "metadata": {},
   "outputs": [],
   "source": [
    "    1. Write a Python program to find words which are greater than given length k?"
   ]
  },
  {
   "cell_type": "code",
   "execution_count": 5,
   "id": "e73af925",
   "metadata": {},
   "outputs": [
    {
     "name": "stdout",
     "output_type": "stream",
     "text": [
      "the strings whos length  greater tahn k is  ['fafa', 'advad', 'savs', 'awvV', 'EVDV']\n"
     ]
    }
   ],
   "source": [
    "try :\n",
    "    def length_identifier(n,k='k'):\n",
    "        l=[]\n",
    "        for i in n:\n",
    "            if len(i) > len(k):\n",
    "                #print(i)\n",
    "                l.append(i)\n",
    "        return l\n",
    "    l =[ 'fafa','advad','savs','awvV','E','','EVDV']\n",
    "    result = length_identifier(l)\n",
    "    print ('the strings whos length  greater tahn k is ',result)\n",
    "except Exception as e:\n",
    "    print(e)"
   ]
  },
  {
   "cell_type": "code",
   "execution_count": null,
   "id": "46160bfe",
   "metadata": {},
   "outputs": [],
   "source": [
    "   2. Write a Python program for removing i-th character from a string?"
   ]
  },
  {
   "cell_type": "code",
   "execution_count": 8,
   "id": "cfa23927",
   "metadata": {},
   "outputs": [
    {
     "name": "stdout",
     "output_type": "stream",
     "text": [
      "the final string  shijn\n"
     ]
    }
   ],
   "source": [
    "try:\n",
    "    def remove_nthele(n,k):\n",
    "        new_str =''\n",
    "        for i in range(len(n)):\n",
    "            \n",
    "            if i != k:\n",
    "                new_str= new_str + n[i]\n",
    "        return new_str\n",
    "    result= remove_nthele('shijin',4)\n",
    "    print('the final string ',result)\n",
    "except Exception as e:\n",
    "    print(e)"
   ]
  },
  {
   "cell_type": "code",
   "execution_count": null,
   "id": "4ca23bd2",
   "metadata": {},
   "outputs": [],
   "source": [
    "    3. Write a Python program to split and join a string?"
   ]
  },
  {
   "cell_type": "code",
   "execution_count": 14,
   "id": "384502a0",
   "metadata": {},
   "outputs": [
    {
     "name": "stdout",
     "output_type": "stream",
     "text": [
      "the string before join ['my', 'name', 'is', 'shijin']\n",
      "the string after join my name is shijin\n"
     ]
    }
   ],
   "source": [
    "try:\n",
    "    def string_con(s):\n",
    "        s=s.split()\n",
    "        print(\"the string before join\",s)\n",
    "        s =' '.join(s)\n",
    "        return s\n",
    "    result = string_con('my name is shijin')\n",
    "    print(\"the string after join\",result)\n",
    "except Exception as e:\n",
    "    print(e)"
   ]
  },
  {
   "cell_type": "code",
   "execution_count": null,
   "id": "4318fa5d",
   "metadata": {},
   "outputs": [],
   "source": [
    "    4. Write a Python to check if a given string is binary string or not?"
   ]
  },
  {
   "cell_type": "code",
   "execution_count": 15,
   "id": "5944e43e",
   "metadata": {},
   "outputs": [
    {
     "name": "stdout",
     "output_type": "stream",
     "text": [
      "Yes\n"
     ]
    }
   ],
   "source": [
    "def check(string) :\n",
    " \n",
    "    # set function convert string\n",
    "    # into set of characters .\n",
    "    p = set(string)\n",
    " \n",
    "    # declare set of '0', '1' .\n",
    "    s = {'0', '1'}\n",
    " \n",
    "    \n",
    "    if s == p or p == {'0'} or p == {'1'}:\n",
    "        print(\"Yes\")\n",
    "    else :\n",
    "        print(\"No\")\n",
    " \n",
    " \n",
    "         \n",
    "# driver code\n",
    "if __name__ == \"__main__\" :\n",
    " \n",
    "    string = \"101010000111\"\n",
    " \n",
    "    # function calling\n",
    "    check(string)"
   ]
  },
  {
   "cell_type": "code",
   "execution_count": null,
   "id": "26f18d6a",
   "metadata": {},
   "outputs": [],
   "source": [
    "    5. Write a Python program to find uncommon words from two Strings?"
   ]
  },
  {
   "cell_type": "code",
   "execution_count": 16,
   "id": "8d1043d8",
   "metadata": {},
   "outputs": [
    {
     "name": "stdout",
     "output_type": "stream",
     "text": [
      "['Learning', 'from']\n"
     ]
    }
   ],
   "source": [
    "def UncommonWords(A, B):\n",
    "  \n",
    "    # count will contain all the word counts\n",
    "    count = {}\n",
    "      \n",
    "    # insert words of string A to hash\n",
    "    for word in A.split():\n",
    "        count[word] = count.get(word, 0) + 1\n",
    "      \n",
    "    # insert words of string B to hash\n",
    "    for word in B.split():\n",
    "        count[word] = count.get(word, 0) + 1\n",
    "  \n",
    "    # return required list of words\n",
    "    return [word for word in count if count[word] == 1]\n",
    "  \n",
    "# Driver Code\n",
    "A = \"Geeks for Geeks\"\n",
    "B = \"Learning from Geeks for Geeks\"\n",
    "  \n",
    "# Print required answer\n",
    "print(UncommonWords(A, B))"
   ]
  },
  {
   "cell_type": "code",
   "execution_count": null,
   "id": "a5f1d7a0",
   "metadata": {},
   "outputs": [],
   "source": [
    "    6. Write a Python to find all duplicate characters in string?"
   ]
  },
  {
   "cell_type": "code",
   "execution_count": 18,
   "id": "f22156fa",
   "metadata": {},
   "outputs": [
    {
     "name": "stdout",
     "output_type": "stream",
     "text": [
      "t o i \n"
     ]
    }
   ],
   "source": [
    "string = \"tutorialspoint\"\n",
    "## initializing a dictionary\n",
    "duplicates = {}\n",
    "for char in string:\n",
    "   ## checking whether the char is already present in dictionary or not\n",
    "   if char in duplicates:\n",
    "      ## increasing count if present\n",
    "      duplicates[char] += 1\n",
    "   else:\n",
    "      ## initializing count to 1 if not present\n",
    "      duplicates[char] = 1\n",
    "for key, value in duplicates.items():\n",
    "   if value > 1:\n",
    "      print(key, end = \" \")\n",
    "print()"
   ]
  },
  {
   "cell_type": "code",
   "execution_count": null,
   "id": "0f6027a6",
   "metadata": {},
   "outputs": [],
   "source": [
    "    7. Write a Python Program to check if a string contains any special character?"
   ]
  },
  {
   "cell_type": "code",
   "execution_count": 20,
   "id": "6ccf3a15",
   "metadata": {},
   "outputs": [
    {
     "ename": "SyntaxError",
     "evalue": "invalid syntax (1132412826.py, line 1)",
     "output_type": "error",
     "traceback": [
      "\u001b[0;36m  File \u001b[0;32m\"/tmp/ipykernel_4894/1132412826.py\"\u001b[0;36m, line \u001b[0;32m1\u001b[0m\n\u001b[0;31m    // Function checks if the string\u001b[0m\n\u001b[0m    ^\u001b[0m\n\u001b[0;31mSyntaxError\u001b[0m\u001b[0;31m:\u001b[0m invalid syntax\n"
     ]
    }
   ],
   "source": [
    " \n",
    "// Function checks if the string\n",
    "// contains any special character\n",
    "void run(string str)\n",
    "{\n",
    "     \n",
    "    // Make own character set\n",
    "    regex regx(\"[@_!#$%^&*()<>?/|}{~:]\");\n",
    " \n",
    "    // Pass the string in regex_search\n",
    "    // method\n",
    "    if(regex_search(str, regx) == 0)\n",
    "        cout << \"String is accepted\";\n",
    "    else\n",
    "        cout << \"String is not accepted.\";\n",
    "}\n",
    " \n",
    "// Driver Code\n",
    "int main()\n",
    "{\n",
    "     \n",
    "    // Enter the string\n",
    "    string str = \"Geeks$For$Geeks\";\n",
    "     \n",
    "    // Calling run function\n",
    "    run(str);\n",
    " \n",
    "    return 0;\n",
    "}\n",
    " "
   ]
  },
  {
   "cell_type": "code",
   "execution_count": null,
   "id": "cfe792ca",
   "metadata": {},
   "outputs": [],
   "source": []
  },
  {
   "cell_type": "code",
   "execution_count": null,
   "id": "b700dd96",
   "metadata": {},
   "outputs": [],
   "source": []
  },
  {
   "cell_type": "code",
   "execution_count": null,
   "id": "d1259d73",
   "metadata": {},
   "outputs": [],
   "source": []
  },
  {
   "cell_type": "code",
   "execution_count": null,
   "id": "a6a993a8",
   "metadata": {},
   "outputs": [],
   "source": []
  },
  {
   "cell_type": "code",
   "execution_count": null,
   "id": "92e918a4",
   "metadata": {},
   "outputs": [],
   "source": []
  },
  {
   "cell_type": "code",
   "execution_count": null,
   "id": "a5812571",
   "metadata": {},
   "outputs": [],
   "source": []
  }
 ],
 "metadata": {
  "kernelspec": {
   "display_name": "Python 3 (ipykernel)",
   "language": "python",
   "name": "python3"
  },
  "language_info": {
   "codemirror_mode": {
    "name": "ipython",
    "version": 3
   },
   "file_extension": ".py",
   "mimetype": "text/x-python",
   "name": "python",
   "nbconvert_exporter": "python",
   "pygments_lexer": "ipython3",
   "version": "3.8.10"
  }
 },
 "nbformat": 4,
 "nbformat_minor": 5
}
