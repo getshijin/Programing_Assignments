{
 "cells": [
  {
   "cell_type": "code",
   "execution_count": null,
   "id": "9561b18b",
   "metadata": {},
   "outputs": [],
   "source": [
    "    1. Write a Python program to check if the given number is a Disarium Number?"
   ]
  },
  {
   "cell_type": "code",
   "execution_count": 15,
   "id": "cd78b0ee",
   "metadata": {},
   "outputs": [
    {
     "name": "stdout",
     "output_type": "stream",
     "text": [
      "135 is Disarium\n"
     ]
    }
   ],
   "source": [
    "import logging\n",
    "logging.basicConfig(filename='assignment.log',level=logging.WARNING,format='%(message)s - %(asctime)s')\n",
    "try:\n",
    "    def int_len(n,i=0):\n",
    "        while n >0:\n",
    "            i +=1\n",
    "            n = n//10\n",
    "        return i\n",
    "   \n",
    "    \n",
    "    #print(a)\n",
    "    def Disarium(b,sum=0):\n",
    "        a =int_len(b,0)\n",
    "        while b>0:\n",
    "            last_el= b%10\n",
    "            sum = sum +last_el**a\n",
    "            a -=1\n",
    "            b = b //10\n",
    "        return sum\n",
    "    \n",
    "    b=135\n",
    "    result =Disarium(b,0)\n",
    "    if b==result:\n",
    "        print(b,\"is Disarium\")\n",
    "    else:\n",
    "         print(b, \"is not Disarium\")\n",
    "except Exception as e:\n",
    "    print(e)"
   ]
  },
  {
   "cell_type": "code",
   "execution_count": null,
   "id": "b8d2187c",
   "metadata": {},
   "outputs": [],
   "source": [
    "2. Write a Python program to print all disarium numbers between 1 to 100?"
   ]
  },
  {
   "cell_type": "code",
   "execution_count": 23,
   "id": "984df69b",
   "metadata": {},
   "outputs": [
    {
     "name": "stdout",
     "output_type": "stream",
     "text": [
      " the disarium in range are [135, 175]\n"
     ]
    }
   ],
   "source": [
    "import logging\n",
    "logging.basicConfig(filename='assignment.log',level=logging.WARNING,format='%(message)s - %(asctime)s')\n",
    "try:\n",
    "    def int_len(n,i=0):\n",
    "        while n >0:\n",
    "            i +=1\n",
    "            n = n//10\n",
    "        return i\n",
    "   \n",
    "    \n",
    "    #print(a)\n",
    "    def Disarium(b,sum=0):\n",
    "        a =int_len(b,0)\n",
    "        while b>0:\n",
    "            last_el= b%10\n",
    "            sum = sum +last_el**a\n",
    "            a -=1\n",
    "            b = b //10\n",
    "        return sum\n",
    "    l=[]\n",
    "    for b in range (100,200):\n",
    "        result =Disarium(b,0)\n",
    "        if b==result:\n",
    "            l.append(b)\n",
    "    print(\" the disarium in range are\",l)\n",
    "\n",
    "except Exception as e:\n",
    "    print(e)"
   ]
  },
  {
   "cell_type": "code",
   "execution_count": null,
   "id": "8ee37c83",
   "metadata": {},
   "outputs": [],
   "source": [
    "    3. Write a Python program to check if the given number is Happy Number?"
   ]
  },
  {
   "cell_type": "code",
   "execution_count": 11,
   "id": "ca5ca08f",
   "metadata": {},
   "outputs": [
    {
     "name": "stdout",
     "output_type": "stream",
     "text": [
      "140 is not happyu number \n"
     ]
    }
   ],
   "source": [
    "import logging\n",
    "logging.basicConfig(filename='assignment.log',level=logging.WARNING,format='%(message)s - %(asctime)s')\n",
    "try:\n",
    "    def happy_number(n):\n",
    "        #temp=n\n",
    "        while n > 10:\n",
    "            #print(n)\n",
    "            temp=n\n",
    "            sum=0\n",
    "            while temp > 0:\n",
    "                a = temp%10\n",
    "                sum = sum +a**2\n",
    "                temp=temp//10\n",
    "                #print(sum)\n",
    "                n= sum\n",
    "        return sum\n",
    "    b=140\n",
    "    result =happy_number(b)\n",
    "    if result ==1:\n",
    "        print(b,\"is happy number\")\n",
    "    else:\n",
    "        print(b,\"is not happy number \")\n",
    "except Exception as e:\n",
    "    print(e)\n"
   ]
  },
  {
   "cell_type": "code",
   "execution_count": null,
   "id": "6017cd04",
   "metadata": {},
   "outputs": [],
   "source": [
    "   4. Write a Python program to print all happy numbers between 1 and 100?"
   ]
  },
  {
   "cell_type": "code",
   "execution_count": 15,
   "id": "4b4cd0a1",
   "metadata": {},
   "outputs": [
    {
     "name": "stdout",
     "output_type": "stream",
     "text": [
      "the happy number in the range 1, 100 is [19, 28, 68, 82, 86, 91]\n"
     ]
    }
   ],
   "source": [
    "import logging\n",
    "logging.basicConfig(filename='assignment.log',level=logging.WARNING,format='%(message)s - %(asctime)s')\n",
    "try:\n",
    "    def happy_number(n,sum=0):\n",
    "        #temp=n\n",
    "        while n > 10:\n",
    "            #print(n)\n",
    "            temp=n\n",
    "            sum=0\n",
    "            while temp > 0:\n",
    "                a = temp%10\n",
    "                sum = sum +a**2\n",
    "                temp=temp//10\n",
    "                #print(sum)\n",
    "                n= sum\n",
    "        return sum\n",
    "    l=[]\n",
    "    for b in range (1,100):\n",
    "        result =happy_number(b)\n",
    "        if result ==1:\n",
    "            l.append(b)\n",
    "    \n",
    "    print(\"the happy number in the range 1, 100 is\",l)\n",
    "except Exception as e:\n",
    "    print(e)\n"
   ]
  },
  {
   "cell_type": "code",
   "execution_count": null,
   "id": "b35967a5",
   "metadata": {},
   "outputs": [],
   "source": [
    "        5. Write a Python program to determine whether the given number is a Harshad Number?"
   ]
  },
  {
   "cell_type": "code",
   "execution_count": 18,
   "id": "35fe07a7",
   "metadata": {},
   "outputs": [
    {
     "name": "stdout",
     "output_type": "stream",
     "text": [
      "21  is Harshad\n"
     ]
    }
   ],
   "source": [
    "import logging\n",
    "logging.basicConfig(filename='assignment.log',level=logging.WARNING,format='%(message)s -%(asctime)s')\n",
    "try:\n",
    "    def harshad(n,sum=0):\n",
    "        \n",
    "        while n>0:\n",
    "            temp =n%10\n",
    "            sum =sum +temp\n",
    "            n= n//10\n",
    "        return sum\n",
    "    b=21\n",
    "    result =harshad(b)\n",
    "    if b%result ==0:\n",
    "        print(b,\" is Harshad\")\n",
    "except Exception as e:\n",
    "    print(e)"
   ]
  },
  {
   "cell_type": "code",
   "execution_count": null,
   "id": "32e07faf",
   "metadata": {},
   "outputs": [],
   "source": [
    "   6. Write a Python program to print all pronic numbers between 1 and 100?"
   ]
  },
  {
   "cell_type": "code",
   "execution_count": null,
   "id": "627fa8d3",
   "metadata": {},
   "outputs": [],
   "source": []
  },
  {
   "cell_type": "code",
   "execution_count": null,
   "id": "85608ee9",
   "metadata": {},
   "outputs": [],
   "source": []
  },
  {
   "cell_type": "code",
   "execution_count": null,
   "id": "b9f56da5",
   "metadata": {},
   "outputs": [],
   "source": []
  },
  {
   "cell_type": "code",
   "execution_count": null,
   "id": "55e3b4af",
   "metadata": {},
   "outputs": [],
   "source": []
  },
  {
   "cell_type": "code",
   "execution_count": null,
   "id": "a5f310bb",
   "metadata": {},
   "outputs": [],
   "source": []
  }
 ],
 "metadata": {
  "kernelspec": {
   "display_name": "Python 3 (ipykernel)",
   "language": "python",
   "name": "python3"
  },
  "language_info": {
   "codemirror_mode": {
    "name": "ipython",
    "version": 3
   },
   "file_extension": ".py",
   "mimetype": "text/x-python",
   "name": "python",
   "nbconvert_exporter": "python",
   "pygments_lexer": "ipython3",
   "version": "3.8.10"
  }
 },
 "nbformat": 4,
 "nbformat_minor": 5
}
