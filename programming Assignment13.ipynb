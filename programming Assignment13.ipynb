{
 "cells": [
  {
   "cell_type": "code",
   "execution_count": null,
   "id": "8bd3ecd8",
   "metadata": {},
   "outputs": [],
   "source": [
    "\n",
    "Question 1:\n",
    "\n",
    "Write a program that calculates and prints the value according to the given formula:\n",
    "Q = Square root of [(2 * C * D)/H]\n",
    "Following are the fixed values of C and H:\n",
    "C is 50. H is 30.\n",
    "D is the variable whose values should be input to your program in a comma-separated sequence.\n",
    "Example\n",
    "Let us assume the following comma separated input sequence is given to the program:\n",
    "100,150,180\n",
    "The output of the program should be:\n",
    "18,22,24"
   ]
  },
  {
   "cell_type": "code",
   "execution_count": 2,
   "id": "4d7f3f81",
   "metadata": {},
   "outputs": [
    {
     "name": "stdout",
     "output_type": "stream",
     "text": [
      "the output is  [18, 22, 24]\n"
     ]
    }
   ],
   "source": [
    "import math\n",
    "def formula(d,c,h):\n",
    "    result=[]\n",
    "    for i in d:\n",
    "        q=round(math.sqrt((2*c*i)/h))\n",
    "        result.append(q)\n",
    "    return(result)\n",
    "d=[100,150,180]\n",
    "output=formula(d,50,30)\n",
    "print(\"the output is \",output)"
   ]
  },
  {
   "cell_type": "code",
   "execution_count": null,
   "id": "7c68c5db",
   "metadata": {},
   "outputs": [],
   "source": [
    "\n",
    "Question 2:\n",
    "Write a program which takes 2 digits, X,Y as input and generates a 2-dimensional array. \n",
    "The element value in the i-th row and j-th column of the array should be i*j.\n",
    "Note: i=0,1.., X-1; j=0,1,¡­Y-1.\n",
    "Example\n",
    "Suppose the following inputs are given to the program:\n",
    "3,5\n",
    "Then, the output of the program should be:\n",
    "[[0, 0, 0, 0, 0], [0, 1, 2, 3, 4], [0, 2, 4, 6, 8]] "
   ]
  },
  {
   "cell_type": "code",
   "execution_count": 21,
   "id": "206c6d15",
   "metadata": {},
   "outputs": [
    {
     "name": "stdout",
     "output_type": "stream",
     "text": [
      "the result is  [[0, 0, 0, 0, 0], [0, 1, 2, 3, 4], [0, 2, 4, 6, 8]]\n"
     ]
    }
   ],
   "source": [
    "def matrix1(n,m):\n",
    "    a= [[i*j for i in range(n)] for j in range(m)]\n",
    "    return a\n",
    "output1=matrix1(5,3)\n",
    "print(\"the result is \",output1)"
   ]
  },
  {
   "cell_type": "code",
   "execution_count": null,
   "id": "497ae2aa",
   "metadata": {},
   "outputs": [],
   "source": [
    "Question 3:\n",
    "Write a program that accepts a comma separated sequence of words as input and prints the words in a \n",
    "comma-separated sequence after sorting them alphabetically.\n",
    "Suppose the following input is supplied to the program:\n",
    "without,hello,bag,world\n",
    "Then, the output should be:\n",
    "bag,hello,without,world"
   ]
  },
  {
   "cell_type": "code",
   "execution_count": 22,
   "id": "821875db",
   "metadata": {},
   "outputs": [
    {
     "name": "stdout",
     "output_type": "stream",
     "text": [
      "the sorted list is  ['bag', 'hello', 'without', 'world']\n"
     ]
    }
   ],
   "source": [
    "def word_sort(l):\n",
    "    l.sort()\n",
    "    print(\"the sorted list is \",l)\n",
    "l=['without','hello','bag','world']\n",
    "word_sort(l)"
   ]
  },
  {
   "cell_type": "code",
   "execution_count": null,
   "id": "8bdc761c",
   "metadata": {},
   "outputs": [],
   "source": [
    "Question 4:\n",
    "Write a program that accepts a sequence of whitespace separated words as input and prints the words after \n",
    "removing all duplicate words and sorting them alphanumerically.\n",
    "Suppose the following input is supplied to the program:\n",
    "hello world and practice makes perfect and hello world again\n",
    "Then, the output should be:\n",
    "again and hello makes perfect practice world"
   ]
  },
  {
   "cell_type": "code",
   "execution_count": 24,
   "id": "3e54ee49",
   "metadata": {},
   "outputs": [
    {
     "name": "stdout",
     "output_type": "stream",
     "text": [
      "the output is  ['again', 'and', 'hello', 'makes', 'perfect', 'practice', 'world']\n"
     ]
    }
   ],
   "source": [
    "def q4(s):\n",
    "    s=s.split()\n",
    "    unique=set()\n",
    "    for word in s:\n",
    "        unique.add(word)\n",
    "    result=list(unique)\n",
    "    result.sort()\n",
    "    return result\n",
    "s='hello world and practice makes perfect and hello world again'\n",
    "\n",
    "output4=q4(s)\n",
    "print(\"the output is \",output4)\n",
    "\n",
    "    "
   ]
  },
  {
   "cell_type": "code",
   "execution_count": null,
   "id": "d75f67cf",
   "metadata": {},
   "outputs": [],
   "source": [
    "Question 5:\n",
    "Write a program that accepts a sentence and calculate the number of letters and digits.\n",
    "Suppose the following input is supplied to the program:\n",
    "hello world! 123\n",
    "Then, the output should be:\n",
    "LETTERS 10\n",
    "DIGITS 3"
   ]
  },
  {
   "cell_type": "code",
   "execution_count": 25,
   "id": "2fb7ad23",
   "metadata": {},
   "outputs": [
    {
     "name": "stdout",
     "output_type": "stream",
     "text": [
      "the letters are: 10 \n",
      "the digits count are 3\n"
     ]
    }
   ],
   "source": [
    "def q5(s):\n",
    "    result=':'.join(s).split(':')\n",
    "    letter=digit=0\n",
    "    for i in result:\n",
    "        if (i.isalpha()):\n",
    "            letter +=1\n",
    "        elif(i.isdigit()):\n",
    "            digit +=1\n",
    "    return letter,digit\n",
    "s='hello world! 123'\n",
    "out5,put5=q5(s)\n",
    "print(\"the letters are:\",out5,\"\\nthe digits count are\",put5)\n",
    "            "
   ]
  },
  {
   "cell_type": "code",
   "execution_count": null,
   "id": "95d80729",
   "metadata": {},
   "outputs": [],
   "source": [
    "Question 6:\n",
    "A website requires the users to input username and password to register. Write a program to check the validity \n",
    "of password input by users.\n",
    "Following are the criteria for checking the password:\n",
    "1. At least 1 letter between [a-z]\n",
    "2. At least 1 number between [0-9]\n",
    "1. At least 1 letter between [A-Z]\n",
    "3. At least 1 character from [$#@]\n",
    "4. Minimum length of transaction password: 6\n",
    "5. Maximum length of transaction password: 12\n",
    "Your program should accept a sequence of comma separated passwords and will check them according to the above criteria. Passwords that match the criteria are to be printed, each separated by a comma.\n",
    "Example\n",
    "If the following passwords are given as input to the program:\n",
    "ABd1234@1,a F1#,2w3E*,2We3345\n",
    "Then, the output of the program should be:\n",
    "ABd1234@1"
   ]
  },
  {
   "cell_type": "code",
   "execution_count": 28,
   "id": "b907e79a",
   "metadata": {},
   "outputs": [
    {
     "name": "stdout",
     "output_type": "stream",
     "text": [
      "['ABd1234@1']\n"
     ]
    }
   ],
   "source": [
    "import re\n",
    "def q6(p):\n",
    "    l=[]\n",
    "    for i in p:\n",
    "        reg=\"^(?=.*[a-z])(?=.*[A-Z])(?=.*\\d)(?=.*[@$#])[A-Za-z\\d@$#]{6,20}$\"\n",
    "        pat = re.compile(reg)\n",
    "        result =re.search(pat,i)\n",
    "        if result:\n",
    "            l.append(i)\n",
    "    return l\n",
    "output6= q6(['ABd1234@1','a F1#','2w3E*','2We3345'])\n",
    "print(output6)\n"
   ]
  },
  {
   "cell_type": "code",
   "execution_count": null,
   "id": "72830685",
   "metadata": {},
   "outputs": [],
   "source": []
  }
 ],
 "metadata": {
  "kernelspec": {
   "display_name": "Python 3 (ipykernel)",
   "language": "python",
   "name": "python3"
  },
  "language_info": {
   "codemirror_mode": {
    "name": "ipython",
    "version": 3
   },
   "file_extension": ".py",
   "mimetype": "text/x-python",
   "name": "python",
   "nbconvert_exporter": "python",
   "pygments_lexer": "ipython3",
   "version": "3.8.10"
  }
 },
 "nbformat": 4,
 "nbformat_minor": 5
}
