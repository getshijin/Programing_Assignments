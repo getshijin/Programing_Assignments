{
 "cells": [
  {
   "cell_type": "code",
   "execution_count": null,
   "id": "844fc5ad",
   "metadata": {},
   "outputs": [],
   "source": [
    "    1. Write a Python program to find sum of elements in list?"
   ]
  },
  {
   "cell_type": "code",
   "execution_count": 2,
   "id": "617bebca",
   "metadata": {},
   "outputs": [
    {
     "name": "stdout",
     "output_type": "stream",
     "text": [
      "The sum of the List is  28\n"
     ]
    }
   ],
   "source": [
    "try:\n",
    "    def sum_list(n,sum=0):\n",
    "        for i in n:\n",
    "            sum =sum +i\n",
    "        return sum\n",
    "    l1= [1,3,4,5,6,7,2]\n",
    "    result=sum_list(l1)\n",
    "    print(\"The sum of the List is \",result)\n",
    "except Exception as e:\n",
    "    print(e)\n",
    "\n"
   ]
  },
  {
   "cell_type": "code",
   "execution_count": null,
   "id": "fc934962",
   "metadata": {},
   "outputs": [],
   "source": [
    "  2. Write a Python program to  Multiply all numbers in the list?"
   ]
  },
  {
   "cell_type": "code",
   "execution_count": 3,
   "id": "7f3af69e",
   "metadata": {},
   "outputs": [
    {
     "name": "stdout",
     "output_type": "stream",
     "text": [
      "The Mult of the List is  120\n"
     ]
    }
   ],
   "source": [
    "try:\n",
    "    def mult_list(n,mult=1):\n",
    "        for i in n:\n",
    "            mult =mult*i\n",
    "        return mult\n",
    "    l1= [1,3,4,5,2]\n",
    "    result=mult_list(l1)\n",
    "    print(\"The Mult of the List is \",result)\n",
    "except Exception as e:\n",
    "    print(e)"
   ]
  },
  {
   "cell_type": "code",
   "execution_count": null,
   "id": "8cca82a3",
   "metadata": {},
   "outputs": [],
   "source": [
    "3. Write a Python program to find smallest number in a list?"
   ]
  },
  {
   "cell_type": "code",
   "execution_count": 8,
   "id": "cab7bdac",
   "metadata": {},
   "outputs": [
    {
     "name": "stdout",
     "output_type": "stream",
     "text": [
      "The min of the List is  2\n"
     ]
    }
   ],
   "source": [
    "try:\n",
    "    def min_list(n):\n",
    "        return min(n)\n",
    "    l1= [10,3,4,5,2]\n",
    "    result=min_list(l1)\n",
    "    print(\"The min of the List is \",result)\n",
    "except Exception as e:\n",
    "    print(e)"
   ]
  },
  {
   "cell_type": "code",
   "execution_count": 9,
   "id": "7cadbdbd",
   "metadata": {},
   "outputs": [],
   "source": [
    " 4. Write a Python program to find largest number in a list?"
   ]
  },
  {
   "cell_type": "code",
   "execution_count": 10,
   "id": "a99e9399",
   "metadata": {},
   "outputs": [
    {
     "name": "stdout",
     "output_type": "stream",
     "text": [
      "The min of the List is  45\n"
     ]
    }
   ],
   "source": [
    "try:\n",
    "    def max_list(n):\n",
    "        return max(n)\n",
    "    l1= [10,3,4,45,2]\n",
    "    result=max_list(l1)\n",
    "    print(\"The min of the List is \",result)\n",
    "except Exception as e:\n",
    "    print(e)"
   ]
  },
  {
   "cell_type": "code",
   "execution_count": null,
   "id": "2936f97e",
   "metadata": {},
   "outputs": [],
   "source": [
    " 5. Write a Python program to find second largest number in a list?"
   ]
  },
  {
   "cell_type": "code",
   "execution_count": 13,
   "id": "e1113894",
   "metadata": {},
   "outputs": [
    {
     "name": "stdout",
     "output_type": "stream",
     "text": [
      "The second largest elemnt is  10\n"
     ]
    }
   ],
   "source": [
    "try:\n",
    "    def secondlargest_list(n):\n",
    "        n.sort()\n",
    "        return n[-2]\n",
    "    l1= [10,3,4,45,2]\n",
    "    result=secondlargest_list(l1)\n",
    "    print(\"The second largest elemnt is \",result)\n",
    "except Exception as e:\n",
    "    print(e)"
   ]
  },
  {
   "cell_type": "code",
   "execution_count": null,
   "id": "7818f351",
   "metadata": {},
   "outputs": [],
   "source": [
    "6. Write a Python program to find N largest elements from a list?"
   ]
  },
  {
   "cell_type": "code",
   "execution_count": 15,
   "id": "74b2d55d",
   "metadata": {},
   "outputs": [
    {
     "name": "stdout",
     "output_type": "stream",
     "text": [
      "The N largest elemnt is  [4, 10, 45]\n"
     ]
    }
   ],
   "source": [
    "try:\n",
    "    def nlargest_list(n,a):\n",
    "        n.sort()\n",
    "        return n[-a:]\n",
    "    l1= [10,3,4,45,2]\n",
    "    a=3\n",
    "    result=nlargest_list(l1,a)\n",
    "    print(\"The N largest elemnt is \",result)\n",
    "except Exception as e:\n",
    "    print(e)"
   ]
  },
  {
   "cell_type": "code",
   "execution_count": null,
   "id": "94870926",
   "metadata": {},
   "outputs": [],
   "source": [
    " 7. Write a Python program to print even numbers in a list?"
   ]
  },
  {
   "cell_type": "code",
   "execution_count": 17,
   "id": "df5db528",
   "metadata": {},
   "outputs": [
    {
     "name": "stdout",
     "output_type": "stream",
     "text": [
      "The even elemnt is  [10, 4, 2]\n"
     ]
    }
   ],
   "source": [
    "try:\n",
    "    def even_list(n):\n",
    "        return [ i for i in n if i%2==0]\n",
    "    l1= [10,3,4,45,2]\n",
    "    \n",
    "    result=even_list(l1)\n",
    "    print(\"The even elemnt is \",result)\n",
    "except Exception as e:\n",
    "    print(e)"
   ]
  },
  {
   "cell_type": "code",
   "execution_count": null,
   "id": "c98c2b5a",
   "metadata": {},
   "outputs": [],
   "source": [
    " 8. Write a Python program to print odd numbers in a List?"
   ]
  },
  {
   "cell_type": "code",
   "execution_count": 18,
   "id": "7e22f301",
   "metadata": {},
   "outputs": [
    {
     "name": "stdout",
     "output_type": "stream",
     "text": [
      "The even elemnt is  [3, 45]\n"
     ]
    }
   ],
   "source": [
    "try:\n",
    "    def even_list(n):\n",
    "        return [ i for i in n if i%2!=0]\n",
    "    l1= [10,3,4,45,2]\n",
    "    \n",
    "    result=even_list(l1)\n",
    "    print(\"The even elemnt is \",result)\n",
    "except Exception as e:\n",
    "    print(e)"
   ]
  },
  {
   "cell_type": "code",
   "execution_count": null,
   "id": "5868910e",
   "metadata": {},
   "outputs": [],
   "source": [
    " 9. Write a Python program to Remove empty List from List?"
   ]
  },
  {
   "cell_type": "code",
   "execution_count": 20,
   "id": "af5f2c03",
   "metadata": {},
   "outputs": [
    {
     "name": "stdout",
     "output_type": "stream",
     "text": [
      "The non empty elemnt is  [10, 3, 4, 45, 2]\n"
     ]
    }
   ],
   "source": [
    "try:\n",
    "    def nonempty_list(n):\n",
    "        return [ i for i in n if i !=[]]\n",
    "    l1= [10,3,4,[],45,2]\n",
    "    \n",
    "    result=nonempty_list(l1)\n",
    "    print(\"The non empty list is \",result)\n",
    "except Exception as e:\n",
    "    print(e)"
   ]
  },
  {
   "cell_type": "code",
   "execution_count": 22,
   "id": "a0b9286f",
   "metadata": {},
   "outputs": [
    {
     "name": "stdout",
     "output_type": "stream",
     "text": [
      "The non empty list is  [10, 3, 4, 45, 2]\n"
     ]
    }
   ],
   "source": [
    "try:\n",
    "    def nonempty_list(n):\n",
    "        return list(filter(None,n))\n",
    "    l1= [10,3,4,[],45,2]\n",
    "    \n",
    "    result=nonempty_list(l1)\n",
    "    print(\"The non empty list is \",result)\n",
    "except Exception as e:\n",
    "    print(e)"
   ]
  },
  {
   "cell_type": "code",
   "execution_count": null,
   "id": "fc41b17b",
   "metadata": {},
   "outputs": [],
   "source": [
    "  10. Write a Python program to Cloning or Copying a list?"
   ]
  },
  {
   "cell_type": "code",
   "execution_count": null,
   "id": "5d44c3bd",
   "metadata": {},
   "outputs": [],
   "source": [
    "# Python program to copy or clone a list\n",
    "# Using the Slice Operator\n",
    "def Cloning(li1):\n",
    "    li_copy = li1[:]\n",
    "    return li_copy\n",
    "   \n",
    "# Driver Code\n",
    "li1 = [4, 8, 2, 10, 15, 18]\n",
    "li2 = Cloning(li1)\n",
    "print(\"Original List:\", li1)\n",
    "print(\"After Cloning:\", li2)"
   ]
  },
  {
   "cell_type": "code",
   "execution_count": 1,
   "id": "e9be3eb9",
   "metadata": {},
   "outputs": [],
   "source": [
    "\n",
    "    11. Write a Python program to Count occurrences of an element in a list?"
   ]
  },
  {
   "cell_type": "code",
   "execution_count": null,
   "id": "3203833d",
   "metadata": {},
   "outputs": [],
   "source": [
    "try:\n",
    "    def count_list(n,a,count=0):\n",
    "        for i in n:\n",
    "            if i==a:\n",
    "                count +=1            \n",
    "        return count\n",
    "    l1= [10,3,4,[],45,2]\n",
    "    f=2\n",
    "    result=count_list(l1,f)\n",
    "    print(\"The non empty list is \",result)\n",
    "except Exception as e:\n",
    "    print(e)"
   ]
  },
  {
   "cell_type": "code",
   "execution_count": null,
   "id": "d1cc04db",
   "metadata": {},
   "outputs": [],
   "source": []
  }
 ],
 "metadata": {
  "kernelspec": {
   "display_name": "Python 3 (ipykernel)",
   "language": "python",
   "name": "python3"
  },
  "language_info": {
   "codemirror_mode": {
    "name": "ipython",
    "version": 3
   },
   "file_extension": ".py",
   "mimetype": "text/x-python",
   "name": "python",
   "nbconvert_exporter": "python",
   "pygments_lexer": "ipython3",
   "version": "3.8.10"
  }
 },
 "nbformat": 4,
 "nbformat_minor": 5
}
