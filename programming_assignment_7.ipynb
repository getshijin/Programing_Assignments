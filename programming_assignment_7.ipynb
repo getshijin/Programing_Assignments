{
 "cells": [
  {
   "cell_type": "code",
   "execution_count": null,
   "id": "22898542",
   "metadata": {},
   "outputs": [],
   "source": [
    "    1. Write a Python Program to find sum of array?"
   ]
  },
  {
   "cell_type": "code",
   "execution_count": 2,
   "id": "fd3d3da5",
   "metadata": {},
   "outputs": [
    {
     "name": "stdout",
     "output_type": "stream",
     "text": [
      "enter the total no elemnts5\n",
      "enter elemnt1\n",
      "enter elemnt2\n",
      "enter elemnt3\n",
      "enter elemnt4\n",
      "enter elemnt5\n",
      "sum of array is  15\n"
     ]
    }
   ],
   "source": [
    "def array_sum(a):\n",
    "    sum = 0\n",
    "    for i in range(len(a)):\n",
    "        sum += a[i]\n",
    "    return sum\n",
    "element_count= int(input(\"enter the total no elemnts\"))\n",
    "l=[]\n",
    "for i in range(element_count):\n",
    "    a = int(input(\"enter elemnt\"))\n",
    "    l.append(a)\n",
    "s = array_sum(l)\n",
    "print(\"sum of array is \", s)"
   ]
  },
  {
   "cell_type": "code",
   "execution_count": null,
   "id": "6f5fb792",
   "metadata": {},
   "outputs": [],
   "source": [
    "    2. Write a Python Program to find largest element in an array?"
   ]
  },
  {
   "cell_type": "code",
   "execution_count": 4,
   "id": "52963687",
   "metadata": {},
   "outputs": [
    {
     "name": "stdout",
     "output_type": "stream",
     "text": [
      "enter the total no elemnts5\n",
      "enter elemnt78\n",
      "enter elemnt65\n",
      "enter elemnt47\n",
      "enter elemnt25\n",
      "enter elemnt41\n",
      "largest of array is  78\n"
     ]
    }
   ],
   "source": [
    "try:\n",
    "    def array_large(a):\n",
    "        large = 0\n",
    "        for i in range(len(a)):\n",
    "            if a[i] > large:\n",
    "                large =a[i]\n",
    "        return large\n",
    "    element_count= int(input(\"enter the total no elemnts\"))\n",
    "    l=[]\n",
    "    for i in range(element_count):\n",
    "        a = int(input(\"enter elemnt\"))\n",
    "        l.append(a)\n",
    "    s = array_large(l)\n",
    "    print(\"largest of array is \", s)\n",
    "except Exception as e:\n",
    "    print(e)"
   ]
  },
  {
   "cell_type": "code",
   "execution_count": null,
   "id": "0ae1faff",
   "metadata": {},
   "outputs": [],
   "source": [
    "  3. Write a Python Program for array rotation?"
   ]
  },
  {
   "cell_type": "code",
   "execution_count": 6,
   "id": "942adcf5",
   "metadata": {},
   "outputs": [
    {
     "name": "stdout",
     "output_type": "stream",
     "text": [
      "enter the total no elemnts5\n",
      "enter elemnt1\n",
      "enter elemnt2\n",
      "enter elemnt3\n",
      "enter elemnt4\n",
      "enter elemnt5\n",
      "rotated array is  [5, 4, 3, 2, 1]\n"
     ]
    }
   ],
   "source": [
    "try:\n",
    "    def array_rotation(a):\n",
    "        rotate = a[-1::-1]\n",
    "        return rotate\n",
    "    element_count= int(input(\"enter the total no elemnts\"))\n",
    "    l=[]\n",
    "    for i in range(element_count):\n",
    "        a = int(input(\"enter elemnt\"))\n",
    "        l.append(a)\n",
    "    s = array_rotation(l)\n",
    "    print(\"rotated array is \", s)\n",
    "except Exception as e:\n",
    "    print(e)"
   ]
  },
  {
   "cell_type": "code",
   "execution_count": null,
   "id": "265f65cd",
   "metadata": {},
   "outputs": [],
   "source": [
    "    4. Write a Python Program to Split the array and add the first part to the end?\n",
    "    "
   ]
  },
  {
   "cell_type": "code",
   "execution_count": 11,
   "id": "1a4a8387",
   "metadata": {},
   "outputs": [
    {
     "name": "stdout",
     "output_type": "stream",
     "text": [
      "50 36 89 77 15 40 1 16 "
     ]
    }
   ],
   "source": [
    "def SplitArray(arr, n, k):\n",
    "    for i in range(0, k):\n",
    "        x = arr[0]\n",
    "        for j in range(0, n-1):\n",
    "            arr[j] = arr[j + 1]\n",
    "        \n",
    "        arr[n-1] = x\n",
    "arr = [15, 40, 1, 16, 50, 36,89,77]\n",
    "n = len(arr)\n",
    "position = n//2\n",
    "SplitArray(arr, n, position)\n",
    "for i in range(0, n):\n",
    "\tprint(arr[i], end = ' ')"
   ]
  },
  {
   "cell_type": "code",
   "execution_count": null,
   "id": "4856dfe0",
   "metadata": {},
   "outputs": [],
   "source": [
    "5. Write a Python Program to check if given array is Monotonic?"
   ]
  },
  {
   "cell_type": "code",
   "execution_count": 12,
   "id": "184a2903",
   "metadata": {},
   "outputs": [
    {
     "name": "stdout",
     "output_type": "stream",
     "text": [
      "True\n"
     ]
    }
   ],
   "source": [
    "def isMonotonic(A):\n",
    "  \n",
    "    return (all(A[i] <= A[i + 1] for i in range(len(A) - 1)) or\n",
    "            all(A[i] >= A[i + 1] for i in range(len(A) - 1)))\n",
    "  \n",
    "# Driver program\n",
    "A = [6, 5, 4, 4]\n",
    "  \n",
    "# Print required result\n",
    "print(isMonotonic(A))"
   ]
  },
  {
   "cell_type": "code",
   "execution_count": null,
   "id": "438ce34e",
   "metadata": {},
   "outputs": [],
   "source": []
  }
 ],
 "metadata": {
  "kernelspec": {
   "display_name": "Python 3 (ipykernel)",
   "language": "python",
   "name": "python3"
  },
  "language_info": {
   "codemirror_mode": {
    "name": "ipython",
    "version": 3
   },
   "file_extension": ".py",
   "mimetype": "text/x-python",
   "name": "python",
   "nbconvert_exporter": "python",
   "pygments_lexer": "ipython3",
   "version": "3.8.10"
  }
 },
 "nbformat": 4,
 "nbformat_minor": 5
}
