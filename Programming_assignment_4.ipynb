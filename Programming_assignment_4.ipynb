{
 "cells": [
  {
   "cell_type": "code",
   "execution_count": null,
   "id": "cc2b5f2e",
   "metadata": {},
   "outputs": [],
   "source": [
    "    1. Write a Python Program to Find the Factorial of a Number?"
   ]
  },
  {
   "cell_type": "code",
   "execution_count": null,
   "id": "12f51768",
   "metadata": {},
   "outputs": [],
   "source": [
    "import logging\n",
    "logging.basicConfig(filename='assignment.log',level=logging.WARNING, format='%(asctime)s -%(message)s')\n",
    "\n",
    "try:\n",
    "    \n",
    "    def factorial(num):\n",
    "        if num==1:\n",
    "            return 1\n",
    "        else:\n",
    "            return num*factorial(num-1)\n",
    "    number = int(input('enter the number'))\n",
    "    result = factorial(number)\n",
    "    print('factorial of {} is {}'.format(number,result))\n",
    "except Exception as e:\n",
    "    print(e)"
   ]
  },
  {
   "cell_type": "code",
   "execution_count": null,
   "id": "6adf25c9",
   "metadata": {},
   "outputs": [],
   "source": [
    "    2. Write a Python Program to Display the multiplication Table?"
   ]
  },
  {
   "cell_type": "code",
   "execution_count": null,
   "id": "47acd62d",
   "metadata": {},
   "outputs": [],
   "source": [
    "import logging\n",
    "logging.basicConfig(filename='assignment.log',level=logging.WARNING, format='%(asctime)s -%(message)s')\n",
    "try:\n",
    "    def table(number):\n",
    "        for i in range (1,11):\n",
    "            print('{} *{} = {}'. format(i,number,i*number))\n",
    "        return 1\n",
    "    num = int(input('enter the number'))\n",
    "    table(num)\n",
    "except Exception as e:\n",
    "    print(e)\n",
    "    "
   ]
  },
  {
   "cell_type": "code",
   "execution_count": null,
   "id": "12b6b016",
   "metadata": {},
   "outputs": [],
   "source": [
    "    3. Write a Python Program to Print the Fibonacci sequence?"
   ]
  },
  {
   "cell_type": "code",
   "execution_count": 5,
   "id": "6b6dc8c2",
   "metadata": {},
   "outputs": [
    {
     "name": "stdout",
     "output_type": "stream",
     "text": [
      "enter tthe number50\n",
      "0\n",
      "[0, 1, 1, 2, 3, 5, 8, 13, 21, 34]\n"
     ]
    }
   ],
   "source": [
    "import logging\n",
    "logging.basicConfig(filename='assignment.log',level=logging.WARNING, format='%(asctime)s -%(message)s')\n",
    "try:\n",
    "    \n",
    "    def fibonacci(n):\n",
    "        a ,b =0, 1\n",
    "        #print(a)\n",
    "        while a <n:\n",
    "            yield a\n",
    "            a, b = b, a+b\n",
    "    \n",
    "    def fin(n):\n",
    "        a, b = 0, 1\n",
    "\n",
    "        for i in range(n):\n",
    "\n",
    "            yield a\n",
    "            a, b = b, a + b\n",
    "\n",
    "        \n",
    "    number = int(input('enter tthe number'))\n",
    "    \n",
    "    print(list(fibonacci(number)))\n",
    "#    print(list(fin(number)))\n",
    "    \n",
    "except Exception as e:\n",
    "    print(e)"
   ]
  },
  {
   "cell_type": "code",
   "execution_count": null,
   "id": "fe8d6d5b",
   "metadata": {},
   "outputs": [],
   "source": [
    "    4. Write a Python Program to Check Armstrong Number?"
   ]
  },
  {
   "cell_type": "code",
   "execution_count": 14,
   "id": "2acbea89",
   "metadata": {},
   "outputs": [
    {
     "name": "stdout",
     "output_type": "stream",
     "text": [
      "enter number121\n",
      "121\n",
      " is armstrong\n"
     ]
    }
   ],
   "source": [
    "try :\n",
    "    def armstrong(number):\n",
    "        ''' thsi program for find the Armstrong number'''\n",
    "        con= 0\n",
    "        while number >0:\n",
    "            temp =number %10\n",
    "            \n",
    "            con =temp +con *10\n",
    "            \n",
    "            number = number //10\n",
    "            \n",
    "        return con\n",
    "    numb =int(input('enter number'))\n",
    "    result = armstrong(numb)\n",
    "    print(result)\n",
    "    if result== numb:\n",
    "        print(' is armstrong')\n",
    "    else:\n",
    "        print('not armstron')\n",
    "    \n",
    "except Exception as e:\n",
    "    print(e)"
   ]
  },
  {
   "cell_type": "code",
   "execution_count": null,
   "id": "823fa7df",
   "metadata": {},
   "outputs": [],
   "source": [
    "    5. Write a Python Program to Find Armstrong Number in an Interval?"
   ]
  },
  {
   "cell_type": "code",
   "execution_count": 15,
   "id": "8af73230",
   "metadata": {},
   "outputs": [
    {
     "name": "stdout",
     "output_type": "stream",
     "text": [
      "enter the valus130\n",
      "[0, 1, 2, 3, 4, 5, 6, 7, 8, 9, 11, 22, 33, 44, 55, 66, 77, 88, 99, 101, 111, 121]\n"
     ]
    }
   ],
   "source": [
    "try :\n",
    "    def armstrong(a):\n",
    "        l=[]\n",
    "        for number in range(a):\n",
    "            temp_variblr= number\n",
    "            result =0\n",
    "            while number > 0:\n",
    "                temp = number %10\n",
    "                result = temp + result*10\n",
    "                number =number // 10\n",
    "            if temp_variblr == result:\n",
    "                l.append(result)\n",
    "                \n",
    "        return l\n",
    "    value =int(input('enter the valus'))\n",
    "    result =armstrong(value)\n",
    "    print(result)\n",
    "except Exception as e:\n",
    "    print(e)\n",
    "    "
   ]
  },
  {
   "cell_type": "code",
   "execution_count": null,
   "id": "de39f8e1",
   "metadata": {},
   "outputs": [],
   "source": [
    "    6. Write a Python Program to Find the Sum of Natural Numbers?"
   ]
  },
  {
   "cell_type": "code",
   "execution_count": 18,
   "id": "ab449259",
   "metadata": {},
   "outputs": [
    {
     "name": "stdout",
     "output_type": "stream",
     "text": [
      "45\n"
     ]
    }
   ],
   "source": [
    "import functools as r\n",
    "try :\n",
    "    \n",
    "    l = range (10)\n",
    "    result = r.reduce(lambda x,y : x+y, l)\n",
    "    print(result)\n",
    "except Exception as e:\n",
    "    print(e)"
   ]
  },
  {
   "cell_type": "code",
   "execution_count": null,
   "id": "1f23802f",
   "metadata": {},
   "outputs": [],
   "source": []
  },
  {
   "cell_type": "code",
   "execution_count": null,
   "id": "70e20ae1",
   "metadata": {},
   "outputs": [],
   "source": []
  },
  {
   "cell_type": "code",
   "execution_count": null,
   "id": "b2365347",
   "metadata": {},
   "outputs": [],
   "source": []
  },
  {
   "cell_type": "code",
   "execution_count": null,
   "id": "0a7be278",
   "metadata": {},
   "outputs": [],
   "source": []
  },
  {
   "cell_type": "code",
   "execution_count": null,
   "id": "472dd89a",
   "metadata": {},
   "outputs": [],
   "source": []
  },
  {
   "cell_type": "code",
   "execution_count": null,
   "id": "b4e2659b",
   "metadata": {},
   "outputs": [],
   "source": []
  }
 ],
 "metadata": {
  "kernelspec": {
   "display_name": "Python 3 (ipykernel)",
   "language": "python",
   "name": "python3"
  },
  "language_info": {
   "codemirror_mode": {
    "name": "ipython",
    "version": 3
   },
   "file_extension": ".py",
   "mimetype": "text/x-python",
   "name": "python",
   "nbconvert_exporter": "python",
   "pygments_lexer": "ipython3",
   "version": "3.8.10"
  }
 },
 "nbformat": 4,
 "nbformat_minor": 5
}
