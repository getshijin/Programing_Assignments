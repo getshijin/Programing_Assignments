{
 "cells": [
  {
   "cell_type": "code",
   "execution_count": null,
   "id": "2fe0fafe",
   "metadata": {},
   "outputs": [],
   "source": [
    "    1. Write a Python Program to Display Fibonacci Sequence Using Recursion?\n"
   ]
  },
  {
   "cell_type": "code",
   "execution_count": 4,
   "id": "ccb3d12f",
   "metadata": {},
   "outputs": [
    {
     "name": "stdout",
     "output_type": "stream",
     "text": [
      "0\n",
      "1\n",
      "1\n",
      "2\n",
      "3\n",
      "5\n",
      "8\n",
      "13\n",
      "21\n",
      "34\n",
      "55\n",
      "89\n"
     ]
    }
   ],
   "source": [
    "import logging\n",
    "logging.basicConfig(filename='assignment.log',level=logging.WARNING, format='%(asctime)s - %(message)s')\n",
    "try:\n",
    "    def fib(num):\n",
    "        if num <=1:\n",
    "            return num\n",
    "        else:\n",
    "            return(fib(num-1) + fib(num-2))\n",
    "    no = 12\n",
    "    for i in range(no):\n",
    "        print(fib(i))\n",
    "except Exception as e:\n",
    "    print(e)\n",
    "    "
   ]
  },
  {
   "cell_type": "code",
   "execution_count": null,
   "id": "651a28f0",
   "metadata": {},
   "outputs": [],
   "source": [
    "    2. Write a Python Program to Find Factorial of Number Using Recursion?\n"
   ]
  },
  {
   "cell_type": "code",
   "execution_count": 5,
   "id": "6ebe429a",
   "metadata": {},
   "outputs": [
    {
     "name": "stdout",
     "output_type": "stream",
     "text": [
      "enter the number5\n",
      "factorial of 5 is 120\n"
     ]
    }
   ],
   "source": [
    "import logging\n",
    "logging.basicConfig(filename='assignment.log',level=logging.WARNING, format='%(asctime)s -%(message)s')\n",
    "\n",
    "try:\n",
    "    \n",
    "    def factorial(num):\n",
    "        if num==1:\n",
    "            return 1\n",
    "        else:\n",
    "            return num*factorial(num-1)\n",
    "    number = int(input('enter the number'))\n",
    "    result = factorial(number)\n",
    "    print('factorial of {} is {}'.format(number,result))\n",
    "except Exception as e:\n",
    "    print(e)"
   ]
  },
  {
   "cell_type": "code",
   "execution_count": null,
   "id": "e5f12c73",
   "metadata": {},
   "outputs": [],
   "source": [
    "    3. Write a Python Program to calculate your Body Mass Index?\n"
   ]
  },
  {
   "cell_type": "code",
   "execution_count": 13,
   "id": "89e6bd90",
   "metadata": {},
   "outputs": [
    {
     "name": "stdout",
     "output_type": "stream",
     "text": [
      "enter the weight80\n",
      "enter the height in meters1.79\n",
      " the BMI of the person is  24.968009737523797\n"
     ]
    }
   ],
   "source": [
    "import logging\n",
    "logging.basicConfig(filename='assignment.log', leve=logging.WARNING, format='%(asctime)s -%(message)s')\n",
    "try:\n",
    "    weight= float(input(\"enter the weight\"))\n",
    "    height = float(input(\"enter the height in meters\"))\n",
    "    BMI = weight/(height**2)\n",
    "    print(\" the BMI of the person is \",BMI)\n",
    "except Exception as e:\n",
    "    print(e)"
   ]
  },
  {
   "cell_type": "code",
   "execution_count": null,
   "id": "1e93cb41",
   "metadata": {},
   "outputs": [],
   "source": [
    "    4. Write a Python Program to calculate the natural logarithm of any number?\n",
    "  "
   ]
  },
  {
   "cell_type": "code",
   "execution_count": 14,
   "id": "c9cf32d7",
   "metadata": {},
   "outputs": [
    {
     "name": "stdout",
     "output_type": "stream",
     "text": [
      "math.log(100.12) :  4.6063694665635735\n",
      "math.log(100.72) :  4.612344389736092\n",
      "math.log(math.pi) :  1.1447298858494002\n"
     ]
    }
   ],
   "source": [
    "import math\n",
    "print (\"math.log(100.12) : \", math.log(100.12))\n",
    "print (\"math.log(100.72) : \", math.log(100.72))\n",
    "print (\"math.log(math.pi) : \", math.log(math.pi))"
   ]
  },
  {
   "cell_type": "code",
   "execution_count": null,
   "id": "7b976633",
   "metadata": {},
   "outputs": [],
   "source": [
    "  5. Write a Python Program for cube sum of first n natural numbers?"
   ]
  },
  {
   "cell_type": "code",
   "execution_count": 21,
   "id": "97444d2e",
   "metadata": {},
   "outputs": [
    {
     "name": "stdout",
     "output_type": "stream",
     "text": [
      "Enter a number for cube sum of n natural numbers5\n",
      "1\n",
      "8\n",
      "27\n",
      "64\n",
      "cube sum of first n natural numbers 100\n"
     ]
    }
   ],
   "source": [
    "import logging\n",
    "logging.basicConfig(filename='assignment.log', format='%(asctime)s -%(message)s',level=logging.WARNING)\n",
    "try:\n",
    "    def cube(n):\n",
    "        return n**3\n",
    "    sum = 0\n",
    "    number = int(input('Enter a number for cube sum of n natural numbers'))\n",
    "    for i in range(1,number):\n",
    "        #print(cube(i))\n",
    "        sum += cube(i)\n",
    "    print(\"cube sum of first n natural numbers\",sum)\n",
    "except Exception as e:\n",
    "    print(e)"
   ]
  },
  {
   "cell_type": "code",
   "execution_count": null,
   "id": "1e79da7e",
   "metadata": {},
   "outputs": [],
   "source": []
  }
 ],
 "metadata": {
  "kernelspec": {
   "display_name": "Python 3 (ipykernel)",
   "language": "python",
   "name": "python3"
  },
  "language_info": {
   "codemirror_mode": {
    "name": "ipython",
    "version": 3
   },
   "file_extension": ".py",
   "mimetype": "text/x-python",
   "name": "python",
   "nbconvert_exporter": "python",
   "pygments_lexer": "ipython3",
   "version": "3.8.10"
  }
 },
 "nbformat": 4,
 "nbformat_minor": 5
}
