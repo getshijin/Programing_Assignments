{
 "cells": [
  {
   "cell_type": "code",
   "execution_count": null,
   "id": "0b3d3a4f",
   "metadata": {},
   "outputs": [],
   "source": [
    "    1. Write a Python Program to Find LCM?\n"
   ]
  },
  {
   "cell_type": "code",
   "execution_count": null,
   "id": "f2619490",
   "metadata": {},
   "outputs": [],
   "source": [
    "\n",
    "\n",
    "def compute_lcm(x, y):\n",
    "\n",
    "   # choose the greater number\n",
    "   if x > y:\n",
    "       greater = x\n",
    "   else:\n",
    "       greater = y\n",
    "\n",
    "   while(True):\n",
    "       if((greater % x == 0) and (greater % y == 0)):\n",
    "           lcm = greater\n",
    "           break\n",
    "       greater += 1\n",
    "\n",
    "   return lcm\n",
    "\n",
    "num1 = 54\n",
    "num2 = 24\n",
    "\n",
    "print(\"The L.C.M. is\", compute_lcm(num1, num2))"
   ]
  },
  {
   "cell_type": "code",
   "execution_count": null,
   "id": "5ef06cc6",
   "metadata": {},
   "outputs": [],
   "source": [
    "    2. Write a Python Program to Find HCF?\n"
   ]
  },
  {
   "cell_type": "code",
   "execution_count": null,
   "id": "dccb1fb7",
   "metadata": {},
   "outputs": [],
   "source": [
    "# Python program to find H.C.F of two numbers\n",
    "\n",
    "# define a function\n",
    "def compute_hcf(x, y):\n",
    "\n",
    "# choose the smaller number\n",
    "    if x > y:\n",
    "        smaller = y\n",
    "    else:\n",
    "        smaller = x\n",
    "    for i in range(1, smaller+1):\n",
    "        if((x % i == 0) and (y % i == 0)):\n",
    "            hcf = i \n",
    "    return hcf\n",
    "\n",
    "num1 = 54 \n",
    "num2 = 24\n",
    "\n",
    "print(\"The H.C.F. is\", compute_hcf(num1, num2))\n"
   ]
  },
  {
   "cell_type": "code",
   "execution_count": null,
   "id": "21906bb0",
   "metadata": {},
   "outputs": [],
   "source": [
    "    3. Write a Python Program to Convert Decimal to Binary, Octal and Hexadecimal?\n"
   ]
  },
  {
   "cell_type": "code",
   "execution_count": 2,
   "id": "0325e287",
   "metadata": {},
   "outputs": [
    {
     "name": "stdout",
     "output_type": "stream",
     "text": [
      "1010\n",
      "0o144\n",
      "0x64\n"
     ]
    }
   ],
   "source": [
    "#decimal to binary\n",
    "\n",
    "def convert_binary(a):\n",
    "    return bin(a)\n",
    "   \n",
    "#decimal to octal\n",
    "def convert_octal(a):\n",
    "    return oct(a)\n",
    "\n",
    "#decimal to hexadecimal\n",
    "def convert_hexadecimal(a):\n",
    "    return hex(a)\n",
    "\n",
    "print(convert_binary(10).replace('0b',''))\n",
    "print(convert_octal(100))\n",
    "print(convert_hexadecimal(100))"
   ]
  },
  {
   "cell_type": "code",
   "execution_count": null,
   "id": "bd39a4b7",
   "metadata": {},
   "outputs": [],
   "source": [
    "    4. Write a Python Program To Find ASCII value of a character?\n"
   ]
  },
  {
   "cell_type": "code",
   "execution_count": 9,
   "id": "680cdcbc",
   "metadata": {},
   "outputs": [
    {
     "name": "stdout",
     "output_type": "stream",
     "text": [
      "a\n"
     ]
    }
   ],
   "source": [
    "def ASCII_converter(d):\n",
    "    if isinstance(d,int):\n",
    "        return chr(d)\n",
    "    elif isinstance(d,str):\n",
    "        return ord(d)\n",
    "\n",
    "a= ASCII_converter(97)\n",
    "print(a)"
   ]
  },
  {
   "cell_type": "code",
   "execution_count": null,
   "id": "ab08c49e",
   "metadata": {},
   "outputs": [],
   "source": [
    "    5. Write a Python Program to Make a Simple Calculator with 4 basic mathematical operations?"
   ]
  },
  {
   "cell_type": "code",
   "execution_count": 12,
   "id": "6c4c69a7",
   "metadata": {},
   "outputs": [
    {
     "name": "stdout",
     "output_type": "stream",
     "text": [
      "enter option1\n",
      "enter a no10\n",
      "enter a no10\n",
      "20\n",
      "enter option2\n",
      "enter a no10\n",
      "enter a no10\n",
      "0\n",
      "enter option3\n",
      "enter a no10\n",
      "enter a no10\n",
      "100\n",
      "enter option4\n",
      "enter a no10\n",
      "enter a no5\n",
      "2\n",
      "enter option3\n",
      "enter a no45\n",
      "enter a no6\n",
      "270\n",
      "enter option9\n"
     ]
    }
   ],
   "source": [
    "try :\n",
    "    while True:\n",
    "        \n",
    "        def add(a,b):\n",
    "            return a+b\n",
    "        def sub(a,b):\n",
    "            return a-b\n",
    "        def mult(a,b):\n",
    "            return a*b\n",
    "        def div(a,b):\n",
    "            return (a//b)\n",
    "        \n",
    "        option =int(input('enter option'))\n",
    "        if (option == 1):\n",
    "            a= int(input('enter a no'))\n",
    "            b= int(input('enter a no'))\n",
    "            print(add(a,b))\n",
    "        elif (option == 2):\n",
    "            a= int(input('enter a no'))\n",
    "            b= int(input('enter a no'))\n",
    "            print(sub(a,b))\n",
    "        elif (option == 3):\n",
    "            a= int(input('enter a no'))\n",
    "            b= int(input('enter a no'))\n",
    "            print(mult(a,b))\n",
    "        elif (option == 4):\n",
    "            a= int(input('enter a no'))\n",
    "            b= int(input('enter a no'))\n",
    "            print(div(a,b))\n",
    "        else:\n",
    "            break\n",
    "except Exception as e:\n",
    "    print(e)"
   ]
  },
  {
   "cell_type": "code",
   "execution_count": null,
   "id": "bc9e17dc",
   "metadata": {},
   "outputs": [],
   "source": []
  },
  {
   "cell_type": "code",
   "execution_count": null,
   "id": "e9e6dc15",
   "metadata": {},
   "outputs": [],
   "source": []
  },
  {
   "cell_type": "code",
   "execution_count": null,
   "id": "8613cd3c",
   "metadata": {},
   "outputs": [],
   "source": []
  },
  {
   "cell_type": "code",
   "execution_count": null,
   "id": "dcedeee6",
   "metadata": {},
   "outputs": [],
   "source": []
  },
  {
   "cell_type": "code",
   "execution_count": null,
   "id": "f5d8a7e0",
   "metadata": {},
   "outputs": [],
   "source": []
  },
  {
   "cell_type": "code",
   "execution_count": null,
   "id": "2497eb77",
   "metadata": {},
   "outputs": [],
   "source": []
  },
  {
   "cell_type": "code",
   "execution_count": null,
   "id": "1a6afddc",
   "metadata": {},
   "outputs": [],
   "source": []
  }
 ],
 "metadata": {
  "kernelspec": {
   "display_name": "Python 3 (ipykernel)",
   "language": "python",
   "name": "python3"
  },
  "language_info": {
   "codemirror_mode": {
    "name": "ipython",
    "version": 3
   },
   "file_extension": ".py",
   "mimetype": "text/x-python",
   "name": "python",
   "nbconvert_exporter": "python",
   "pygments_lexer": "ipython3",
   "version": "3.8.10"
  }
 },
 "nbformat": 4,
 "nbformat_minor": 5
}
