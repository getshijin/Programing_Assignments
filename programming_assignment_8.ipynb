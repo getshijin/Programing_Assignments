{
 "cells": [
  {
   "cell_type": "code",
   "execution_count": null,
   "id": "9a1bdbf8",
   "metadata": {},
   "outputs": [],
   "source": [
    "    1. Write a Python Program to Add Two Matrices?"
   ]
  },
  {
   "cell_type": "code",
   "execution_count": 11,
   "id": "6d3b4e5f",
   "metadata": {},
   "outputs": [
    {
     "name": "stdout",
     "output_type": "stream",
     "text": [
      "sum of a +b  [[32.         36.14285714 40.28571429 44.42857143 48.57142857]\n",
      " [52.71428571 56.85714286 61.         65.14285714 69.28571429]\n",
      " [73.42857143 77.57142857 81.71428571 85.85714286 90.        ]]\n"
     ]
    }
   ],
   "source": [
    "import numpy as np \n",
    "a = np.linspace(2,30,15).reshape(3,5)\n",
    "b = np.linspace(30,60,15).reshape(3,5)\n",
    "c = a + b\n",
    "print(\"sum of a +b \",c)"
   ]
  },
  {
   "cell_type": "code",
   "execution_count": null,
   "id": "ee13588c",
   "metadata": {},
   "outputs": [],
   "source": [
    "    2. Write a Python Program to Multiply Two Matrices?"
   ]
  },
  {
   "cell_type": "code",
   "execution_count": 14,
   "id": "0ba77eeb",
   "metadata": {},
   "outputs": [
    {
     "name": "stdout",
     "output_type": "stream",
     "text": [
      "multiplication of a  x b \n",
      " [[1414.28571429 1478.57142857 1542.85714286]\n",
      " [3557.14285714 3728.57142857 3900.        ]\n",
      " [5700.         5978.57142857 6257.14285714]]\n"
     ]
    }
   ],
   "source": [
    "import numpy as np \n",
    "a = np.linspace(2,30,15).reshape(3,5)\n",
    "b = np.linspace(30,60,15).reshape(5,3)\n",
    "c = a @ b\n",
    "print(\"multiplication of a  x b \\n\",c)"
   ]
  },
  {
   "cell_type": "code",
   "execution_count": null,
   "id": "c132f9a0",
   "metadata": {},
   "outputs": [],
   "source": [
    "    3. Write a Python Program to Transpose a Matrix?"
   ]
  },
  {
   "cell_type": "code",
   "execution_count": 15,
   "id": "12f9cf60",
   "metadata": {},
   "outputs": [],
   "source": [
    "import numpy as np \n",
    "a = np.linspace(2,30,15).reshape(3,5)"
   ]
  },
  {
   "cell_type": "code",
   "execution_count": 18,
   "id": "97ae9452",
   "metadata": {},
   "outputs": [
    {
     "data": {
      "text/plain": [
       "array([[ 2.,  4.,  6.,  8., 10.],\n",
       "       [12., 14., 16., 18., 20.],\n",
       "       [22., 24., 26., 28., 30.]])"
      ]
     },
     "execution_count": 18,
     "metadata": {},
     "output_type": "execute_result"
    }
   ],
   "source": [
    "a"
   ]
  },
  {
   "cell_type": "code",
   "execution_count": 17,
   "id": "792c192c",
   "metadata": {},
   "outputs": [
    {
     "data": {
      "text/plain": [
       "array([[ 2., 12., 22.],\n",
       "       [ 4., 14., 24.],\n",
       "       [ 6., 16., 26.],\n",
       "       [ 8., 18., 28.],\n",
       "       [10., 20., 30.]])"
      ]
     },
     "execution_count": 17,
     "metadata": {},
     "output_type": "execute_result"
    }
   ],
   "source": [
    "a.T"
   ]
  },
  {
   "cell_type": "code",
   "execution_count": null,
   "id": "5c831fa5",
   "metadata": {},
   "outputs": [],
   "source": [
    "    4. Write a Python Program to Sort Words in Alphabetic Order?"
   ]
  },
  {
   "cell_type": "code",
   "execution_count": 32,
   "id": "b528f79f",
   "metadata": {},
   "outputs": [
    {
     "name": "stdout",
     "output_type": "stream",
     "text": [
      "acha\n",
      "am\n",
      "and\n",
      "country\n",
      "i\n",
      "i\n",
      "it.\n",
      "jahasi\n",
      "love\n",
      "my\n",
      "of\n",
      "proud\n",
      "sarea\n"
     ]
    }
   ],
   "source": [
    "string_2=\" i love my country and i am proud of it. sarea jahasi acha\"\n",
    "list_words =string_2.split()\n",
    "list_words.sort()\n",
    "for i in list_words:\n",
    "    print(i)\n"
   ]
  },
  {
   "cell_type": "code",
   "execution_count": null,
   "id": "47cbe08c",
   "metadata": {},
   "outputs": [],
   "source": [
    "    5. Write a Python Program to Remove Punctuation From a String?"
   ]
  },
  {
   "cell_type": "code",
   "execution_count": null,
   "id": "6525bf19",
   "metadata": {},
   "outputs": [],
   "source": [
    "puncuation = '''!()-[]{};:'\"\\,<>./?@#$%^&*_~'''\n",
    "string_1 =\"my !! name is : Shijin Ms @ I am 32 #\"\n",
    "no_punc=''\n",
    "for char in string_1:\n",
    "    if char not in puncuation:\n",
    "        no_punc +=char\n",
    "print(no_punc)"
   ]
  }
 ],
 "metadata": {
  "kernelspec": {
   "display_name": "Python 3 (ipykernel)",
   "language": "python",
   "name": "python3"
  },
  "language_info": {
   "codemirror_mode": {
    "name": "ipython",
    "version": 3
   },
   "file_extension": ".py",
   "mimetype": "text/x-python",
   "name": "python",
   "nbconvert_exporter": "python",
   "pygments_lexer": "ipython3",
   "version": "3.8.10"
  }
 },
 "nbformat": 4,
 "nbformat_minor": 5
}
